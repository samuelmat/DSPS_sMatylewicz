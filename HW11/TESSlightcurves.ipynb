{
  "nbformat": 4,
  "nbformat_minor": 0,
  "metadata": {
    "colab": {
      "name": "TESSlightcurves.ipynb",
      "provenance": [],
      "include_colab_link": true
    },
    "kernelspec": {
      "name": "python3",
      "display_name": "Python 3"
    }
  },
  "cells": [
    {
      "cell_type": "markdown",
      "metadata": {
        "id": "view-in-github",
        "colab_type": "text"
      },
      "source": [
        "<a href=\"https://colab.research.google.com/github/samuelmat/DSPS_sMatylewicz/blob/master/HW11/TESSlightcurves.ipynb\" target=\"_parent\"><img src=\"https://colab.research.google.com/assets/colab-badge.svg\" alt=\"Open In Colab\"/></a>"
      ]
    },
    {
      "cell_type": "markdown",
      "metadata": {
        "id": "AHQkmKjxCvx1",
        "colab_type": "text"
      },
      "source": [
        "In this part of the homework, you will download 3 time series that were produced by TESS. The format of the data is given in two columns: Time (BJD = Barycentric Julian Date, or days) and differential magnitude (mmag). Each file containing the time series is formatted as 'IDnumber.rw', and there are no headers or column headings (in other words, they are barebones ASCII files).\n",
        "\n",
        "The three files are available at the following links:\n",
        "\n",
        "https://drive.google.com/open?id=1etymBPHbCCF_sBYhmGkqP0lYpKGtl4O9\n",
        "\n",
        "https://drive.google.com/open?id=1q10RiwR20PpBDsWM6MAJY_L9sfrod_N0\n",
        "\n",
        "https://drive.google.com/open?id=1wQ2zloxuoZ4xfyLLyNSltveOLek4C8-8\n",
        "\n",
        "Start by loading the data and plotting each of these time series (with proper axes and with the ID number shown for each star)."
      ]
    },
    {
      "cell_type": "code",
      "metadata": {
        "id": "_Qr9brhb1n01",
        "colab_type": "code",
        "colab": {
          "base_uri": "https://localhost:8080/",
          "height": 131
        },
        "outputId": "5683cbbc-39a5-448a-cc6a-df23600700bc"
      },
      "source": [
        "from google.colab import drive\n",
        "drive.mount(\"/content/drive\")"
      ],
      "execution_count": 2,
      "outputs": [
        {
          "output_type": "stream",
          "text": [
            "Go to this URL in a browser: https://accounts.google.com/o/oauth2/auth?client_id=947318989803-6bn6qk8qdgf4n4g3pfee6491hc0brc4i.apps.googleusercontent.com&redirect_uri=urn%3aietf%3awg%3aoauth%3a2.0%3aoob&response_type=code&scope=email%20https%3a%2f%2fwww.googleapis.com%2fauth%2fdocs.test%20https%3a%2f%2fwww.googleapis.com%2fauth%2fdrive%20https%3a%2f%2fwww.googleapis.com%2fauth%2fdrive.photos.readonly%20https%3a%2f%2fwww.googleapis.com%2fauth%2fpeopleapi.readonly\n",
            "\n",
            "Enter your authorization code:\n",
            "··········\n",
            "Mounted at /content/drive\n"
          ],
          "name": "stdout"
        }
      ]
    },
    {
      "cell_type": "code",
      "metadata": {
        "id": "MbVUs95xCQVc",
        "colab_type": "code",
        "colab": {}
      },
      "source": [
        "import pandas as pd\n",
        "import numpy as np\n",
        "import matplotlib\n",
        "import matplotlib.pyplot as plt\n",
        "from astropy.stats import LombScargle"
      ],
      "execution_count": 0,
      "outputs": []
    },
    {
      "cell_type": "code",
      "metadata": {
        "id": "KpQnnb6322HP",
        "colab_type": "code",
        "colab": {
          "base_uri": "https://localhost:8080/",
          "height": 54
        },
        "outputId": "a949385d-1a21-4cb3-c97b-b543b7bfa7ed"
      },
      "source": [
        "cd drive/My\\ Drive/dsps"
      ],
      "execution_count": 5,
      "outputs": [
        {
          "output_type": "stream",
          "text": [
            "[Errno 2] No such file or directory: 'drive/My Drive/dsps'\n",
            "/content/drive/My Drive/dsps\n"
          ],
          "name": "stdout"
        }
      ]
    },
    {
      "cell_type": "markdown",
      "metadata": {
        "id": "MxPaNJoNEIAd",
        "colab_type": "text"
      },
      "source": [
        "# **Data ingestion**"
      ]
    },
    {
      "cell_type": "code",
      "metadata": {
        "id": "TZ6ZsRJzEMSR",
        "colab_type": "code",
        "colab": {
          "base_uri": "https://localhost:8080/",
          "height": 36
        },
        "outputId": "09137238-0d36-4418-bf6b-564daf5320ec"
      },
      "source": [
        "ts0 = pd.read_csv('011400909.rw', sep = ' ', header = None)\n",
        "ts0.shape"
      ],
      "execution_count": 6,
      "outputs": [
        {
          "output_type": "execute_result",
          "data": {
            "text/plain": [
              "(14827, 2)"
            ]
          },
          "metadata": {
            "tags": []
          },
          "execution_count": 6
        }
      ]
    },
    {
      "cell_type": "code",
      "metadata": {
        "id": "FWupFeZp2mr5",
        "colab_type": "code",
        "colab": {
          "base_uri": "https://localhost:8080/",
          "height": 206
        },
        "outputId": "5222505f-b66f-4022-cd8d-beeb2f5ead80"
      },
      "source": [
        "ts0.head()"
      ],
      "execution_count": 7,
      "outputs": [
        {
          "output_type": "execute_result",
          "data": {
            "text/html": [
              "<div>\n",
              "<style scoped>\n",
              "    .dataframe tbody tr th:only-of-type {\n",
              "        vertical-align: middle;\n",
              "    }\n",
              "\n",
              "    .dataframe tbody tr th {\n",
              "        vertical-align: top;\n",
              "    }\n",
              "\n",
              "    .dataframe thead th {\n",
              "        text-align: right;\n",
              "    }\n",
              "</style>\n",
              "<table border=\"1\" class=\"dataframe\">\n",
              "  <thead>\n",
              "    <tr style=\"text-align: right;\">\n",
              "      <th></th>\n",
              "      <th>0</th>\n",
              "      <th>1</th>\n",
              "    </tr>\n",
              "  </thead>\n",
              "  <tbody>\n",
              "    <tr>\n",
              "      <th>0</th>\n",
              "      <td>1468.277296</td>\n",
              "      <td>-0.006142</td>\n",
              "    </tr>\n",
              "    <tr>\n",
              "      <th>1</th>\n",
              "      <td>1468.278685</td>\n",
              "      <td>-0.006294</td>\n",
              "    </tr>\n",
              "    <tr>\n",
              "      <th>2</th>\n",
              "      <td>1468.280074</td>\n",
              "      <td>-0.006214</td>\n",
              "    </tr>\n",
              "    <tr>\n",
              "      <th>3</th>\n",
              "      <td>1468.281463</td>\n",
              "      <td>-0.006281</td>\n",
              "    </tr>\n",
              "    <tr>\n",
              "      <th>4</th>\n",
              "      <td>1468.282852</td>\n",
              "      <td>-0.006453</td>\n",
              "    </tr>\n",
              "  </tbody>\n",
              "</table>\n",
              "</div>"
            ],
            "text/plain": [
              "             0         1\n",
              "0  1468.277296 -0.006142\n",
              "1  1468.278685 -0.006294\n",
              "2  1468.280074 -0.006214\n",
              "3  1468.281463 -0.006281\n",
              "4  1468.282852 -0.006453"
            ]
          },
          "metadata": {
            "tags": []
          },
          "execution_count": 7
        }
      ]
    },
    {
      "cell_type": "code",
      "metadata": {
        "id": "9908SwG62nkF",
        "colab_type": "code",
        "colab": {
          "base_uri": "https://localhost:8080/",
          "height": 36
        },
        "outputId": "f601b2d2-73e7-43cc-ee64-3b5aafbb7582"
      },
      "source": [
        "ts1 = pd.read_csv('146879345.rw', sep = ' ', header = None)\n",
        "ts1.shape"
      ],
      "execution_count": 8,
      "outputs": [
        {
          "output_type": "execute_result",
          "data": {
            "text/plain": [
              "(14830, 2)"
            ]
          },
          "metadata": {
            "tags": []
          },
          "execution_count": 8
        }
      ]
    },
    {
      "cell_type": "code",
      "metadata": {
        "id": "Yl5W57Ei2nnp",
        "colab_type": "code",
        "colab": {
          "base_uri": "https://localhost:8080/",
          "height": 206
        },
        "outputId": "c7c813cb-e6dd-4923-af2e-79afb83afebd"
      },
      "source": [
        "ts1.head()"
      ],
      "execution_count": 9,
      "outputs": [
        {
          "output_type": "execute_result",
          "data": {
            "text/html": [
              "<div>\n",
              "<style scoped>\n",
              "    .dataframe tbody tr th:only-of-type {\n",
              "        vertical-align: middle;\n",
              "    }\n",
              "\n",
              "    .dataframe tbody tr th {\n",
              "        vertical-align: top;\n",
              "    }\n",
              "\n",
              "    .dataframe thead th {\n",
              "        text-align: right;\n",
              "    }\n",
              "</style>\n",
              "<table border=\"1\" class=\"dataframe\">\n",
              "  <thead>\n",
              "    <tr style=\"text-align: right;\">\n",
              "      <th></th>\n",
              "      <th>0</th>\n",
              "      <th>1</th>\n",
              "    </tr>\n",
              "  </thead>\n",
              "  <tbody>\n",
              "    <tr>\n",
              "      <th>0</th>\n",
              "      <td>1468.276144</td>\n",
              "      <td>0.030515</td>\n",
              "    </tr>\n",
              "    <tr>\n",
              "      <th>1</th>\n",
              "      <td>1468.277532</td>\n",
              "      <td>0.032342</td>\n",
              "    </tr>\n",
              "    <tr>\n",
              "      <th>2</th>\n",
              "      <td>1468.278921</td>\n",
              "      <td>0.033998</td>\n",
              "    </tr>\n",
              "    <tr>\n",
              "      <th>3</th>\n",
              "      <td>1468.280310</td>\n",
              "      <td>0.034609</td>\n",
              "    </tr>\n",
              "    <tr>\n",
              "      <th>4</th>\n",
              "      <td>1468.281699</td>\n",
              "      <td>0.036624</td>\n",
              "    </tr>\n",
              "  </tbody>\n",
              "</table>\n",
              "</div>"
            ],
            "text/plain": [
              "             0         1\n",
              "0  1468.276144  0.030515\n",
              "1  1468.277532  0.032342\n",
              "2  1468.278921  0.033998\n",
              "3  1468.280310  0.034609\n",
              "4  1468.281699  0.036624"
            ]
          },
          "metadata": {
            "tags": []
          },
          "execution_count": 9
        }
      ]
    },
    {
      "cell_type": "code",
      "metadata": {
        "id": "bTpC2Crl2nsy",
        "colab_type": "code",
        "colab": {
          "base_uri": "https://localhost:8080/",
          "height": 36
        },
        "outputId": "5ebc394b-f174-4177-aa45-aef5700b0494"
      },
      "source": [
        "ts2 = pd.read_csv('277023834.rw', sep = ' ', header = None)\n",
        "ts2.shape"
      ],
      "execution_count": 10,
      "outputs": [
        {
          "output_type": "execute_result",
          "data": {
            "text/plain": [
              "(163523, 2)"
            ]
          },
          "metadata": {
            "tags": []
          },
          "execution_count": 10
        }
      ]
    },
    {
      "cell_type": "code",
      "metadata": {
        "id": "bZPCTfUn2moM",
        "colab_type": "code",
        "colab": {
          "base_uri": "https://localhost:8080/",
          "height": 206
        },
        "outputId": "0261eabb-802d-4a83-c7c0-9c0fe8ce0d83"
      },
      "source": [
        "ts2.head()"
      ],
      "execution_count": 11,
      "outputs": [
        {
          "output_type": "execute_result",
          "data": {
            "text/html": [
              "<div>\n",
              "<style scoped>\n",
              "    .dataframe tbody tr th:only-of-type {\n",
              "        vertical-align: middle;\n",
              "    }\n",
              "\n",
              "    .dataframe tbody tr th {\n",
              "        vertical-align: top;\n",
              "    }\n",
              "\n",
              "    .dataframe thead th {\n",
              "        text-align: right;\n",
              "    }\n",
              "</style>\n",
              "<table border=\"1\" class=\"dataframe\">\n",
              "  <thead>\n",
              "    <tr style=\"text-align: right;\">\n",
              "      <th></th>\n",
              "      <th>0</th>\n",
              "      <th>1</th>\n",
              "    </tr>\n",
              "  </thead>\n",
              "  <tbody>\n",
              "    <tr>\n",
              "      <th>0</th>\n",
              "      <td>1325.296126</td>\n",
              "      <td>0.022374</td>\n",
              "    </tr>\n",
              "    <tr>\n",
              "      <th>1</th>\n",
              "      <td>1325.297515</td>\n",
              "      <td>0.022118</td>\n",
              "    </tr>\n",
              "    <tr>\n",
              "      <th>2</th>\n",
              "      <td>1325.298904</td>\n",
              "      <td>0.026386</td>\n",
              "    </tr>\n",
              "    <tr>\n",
              "      <th>3</th>\n",
              "      <td>1325.300293</td>\n",
              "      <td>0.013699</td>\n",
              "    </tr>\n",
              "    <tr>\n",
              "      <th>4</th>\n",
              "      <td>1325.301682</td>\n",
              "      <td>0.025005</td>\n",
              "    </tr>\n",
              "  </tbody>\n",
              "</table>\n",
              "</div>"
            ],
            "text/plain": [
              "             0         1\n",
              "0  1325.296126  0.022374\n",
              "1  1325.297515  0.022118\n",
              "2  1325.298904  0.026386\n",
              "3  1325.300293  0.013699\n",
              "4  1325.301682  0.025005"
            ]
          },
          "metadata": {
            "tags": []
          },
          "execution_count": 11
        }
      ]
    },
    {
      "cell_type": "markdown",
      "metadata": {
        "id": "Nrh4O-yeEnV6",
        "colab_type": "text"
      },
      "source": [
        "# **Plotting each time series**"
      ]
    },
    {
      "cell_type": "code",
      "metadata": {
        "id": "RUwaDrf8_ezm",
        "colab_type": "code",
        "colab": {
          "base_uri": "https://localhost:8080/",
          "height": 295
        },
        "outputId": "bda2b2c0-07a6-4b80-9100-a336ff493bc2"
      },
      "source": [
        "plt.scatter(ts0[0], ts0[1])\n",
        "plt.title('011400909')\n",
        "plt.xlabel('date')\n",
        "plt.ylabel('mag');"
      ],
      "execution_count": 15,
      "outputs": [
        {
          "output_type": "display_data",
          "data": {
            "image/png": "[encoded data removed]",
            "text/plain": [
              "<Figure size 432x288 with 1 Axes>"
            ]
          },
          "metadata": {
            "tags": []
          }
        }
      ]
    },
    {
      "cell_type": "code",
      "metadata": {
        "id": "2uiGlEZfAaqF",
        "colab_type": "code",
        "colab": {
          "base_uri": "https://localhost:8080/",
          "height": 295
        },
        "outputId": "69d51950-cafe-4e7c-e84e-80c08a8064a2"
      },
      "source": [
        "plt.scatter(ts1[0], ts1[1])\n",
        "plt.title('146879345')\n",
        "plt.xlabel('date')\n",
        "plt.ylabel('mag');"
      ],
      "execution_count": 16,
      "outputs": [
        {
          "output_type": "display_data",
          "data": {
            "image/png": "[encoded data removed]",
            "text/plain": [
              "<Figure size 432x288 with 1 Axes>"
            ]
          },
          "metadata": {
            "tags": []
          }
        }
      ]
    },
    {
      "cell_type": "code",
      "metadata": {
        "id": "k6E2IPd-AbBu",
        "colab_type": "code",
        "colab": {
          "base_uri": "https://localhost:8080/",
          "height": 295
        },
        "outputId": "4168c82e-10f5-4fba-8c6d-4b73abdd29af"
      },
      "source": [
        "plt.scatter(ts2[0], ts2[1])\n",
        "plt.title('277023834')\n",
        "plt.xlabel('date')\n",
        "plt.ylabel('mag');"
      ],
      "execution_count": 17,
      "outputs": [
        {
          "output_type": "display_data",
          "data": {
            "image/png": "[encoded data removed]",
            "text/plain": [
              "<Figure size 432x288 with 1 Axes>"
            ]
          },
          "metadata": {
            "tags": []
          }
        }
      ]
    },
    {
      "cell_type": "markdown",
      "metadata": {
        "id": "1WNlG2gpE136",
        "colab_type": "text"
      },
      "source": [
        "Now that you have plotted each time series, you can probably make an educated guess as to what type of variability (periodic, cyclical or stochastic) is present in each of them. Add a text cell below to put your best \"guess\" (prediction required for full marks, even if it is wrong or disagrees with answer later in the assignment).\n",
        "\n",
        "I think they are all periodic"
      ]
    },
    {
      "cell_type": "markdown",
      "metadata": {
        "id": "y_orkganFNzi",
        "colab_type": "text"
      },
      "source": [
        "# **Computing Lomb-Scargle periodograms for each time series**\n",
        "\n",
        "Using the package loaded above (LombScargle), compute the periodogram (either the power spectrum or the amplitude spectrum, as discussed in class) for each time series, and then plot each periodogram, making sure to properly label the axes and to identify each star. Make sure to choose the frequency range wisely.\n",
        "\n",
        "For more documentation on the LombScargle package: https://docs.astropy.org/en/stable/api/astropy.timeseries.LombScargle.html#astropy.timeseries.LombScargle\n",
        "\n",
        "For the normalization, make sure to use \"psd\" so that we can recover units."
      ]
    },
    {
      "cell_type": "code",
      "metadata": {
        "id": "lj9lk9TLFqj8",
        "colab_type": "code",
        "colab": {}
      },
      "source": [
        "freq0, pow0 = LombScargle(ts0[0], ts0[1], normalization = 'psd').autopower()\n",
        "freq1, pow1 = LombScargle(ts1[0], ts1[1], normalization = 'psd').autopower()\n",
        "freq2, pow2 = LombScargle(ts2[0], ts2[1], normalization = 'psd').autopower()"
      ],
      "execution_count": 0,
      "outputs": []
    },
    {
      "cell_type": "code",
      "metadata": {
        "id": "twVZp3Mj_P2M",
        "colab_type": "code",
        "colab": {
          "base_uri": "https://localhost:8080/",
          "height": 295
        },
        "outputId": "7f4ae731-c43d-4bb6-bab0-f1db6e01ec7a"
      },
      "source": [
        "plt.plot(freq0, pow0)\n",
        "plt.title('011400909')\n",
        "plt.xlabel('date')\n",
        "plt.ylabel('mag');"
      ],
      "execution_count": 21,
      "outputs": [
        {
          "output_type": "display_data",
          "data": {
            "image/png": "[encoded data removed]",
            "text/plain": [
              "<Figure size 432x288 with 1 Axes>"
            ]
          },
          "metadata": {
            "tags": []
          }
        }
      ]
    },
    {
      "cell_type": "code",
      "metadata": {
        "id": "NlmEOG_SEbVG",
        "colab_type": "code",
        "colab": {
          "base_uri": "https://localhost:8080/",
          "height": 295
        },
        "outputId": "c6317d07-4940-4dfa-e3b6-cc8d3feee7b5"
      },
      "source": [
        "plt.plot(freq1, pow1)\n",
        "plt.title('146879345')\n",
        "plt.xlabel('date')\n",
        "plt.ylabel('mag');"
      ],
      "execution_count": 23,
      "outputs": [
        {
          "output_type": "display_data",
          "data": {
            "image/png": "[encoded data removed]",
            "text/plain": [
              "<Figure size 432x288 with 1 Axes>"
            ]
          },
          "metadata": {
            "tags": []
          }
        }
      ]
    },
    {
      "cell_type": "code",
      "metadata": {
        "id": "TjJdMtMhEpMB",
        "colab_type": "code",
        "colab": {
          "base_uri": "https://localhost:8080/",
          "height": 295
        },
        "outputId": "a17ee0d7-25c4-485b-eb3f-90f1bf18a7be"
      },
      "source": [
        "plt.plot(freq2, pow2)\n",
        "plt.title('277023834')\n",
        "plt.xlabel('date')\n",
        "plt.ylabel('mag');"
      ],
      "execution_count": 24,
      "outputs": [
        {
          "output_type": "display_data",
          "data": {
            "image/png": "[encoded data removed]",
            "text/plain": [
              "<Figure size 432x288 with 1 Axes>"
            ]
          },
          "metadata": {
            "tags": []
          }
        }
      ]
    },
    {
      "cell_type": "markdown",
      "metadata": {
        "id": "r-DL0PfvFrZC",
        "colab_type": "text"
      },
      "source": [
        "Based on the periodograms you have plotted, add a text box below and indicate what type of variability is exhibited by each of the stars. If one of the stars exhibits *periodic* variations, please also indicate the value of that period.\n",
        "\n",
        "You can assume 0 and 1 are periodic because of the 3 jumps. You cannot assume that 2 is periodic."
      ]
    },
    {
      "cell_type": "markdown",
      "metadata": {
        "id": "BYeEpKtVHmMl",
        "colab_type": "text"
      },
      "source": [
        "# **Phase folding**\n",
        "\n",
        "For any star above exhibiting periodic variations, you will phase-fold their time series. This is accomplished by rescaling the exogenous variable, dividing it by the period (keep in mind that period = 1/frequency, and that if you have multiple periods, or harmonics, you should divide by the fundamental period). However, only the fractional part (e.g. np.modf(x)[0]) of the period must be considered (which means that the axis containing the exogenous variable will no longer be monotonically increasing; therefore, make sure to reorder the dataset appropriately).\n",
        "\n",
        "Then, plot the phase-folded light curve(s) and identify them accordingly."
      ]
    },
    {
      "cell_type": "code",
      "metadata": {
        "id": "cqC1e8JIIp_E",
        "colab_type": "code",
        "colab": {}
      },
      "source": [
        "from scipy.signal import find_peaks"
      ],
      "execution_count": 0,
      "outputs": []
    },
    {
      "cell_type": "code",
      "metadata": {
        "id": "MPK5GDfnFPf2",
        "colab_type": "code",
        "colab": {}
      },
      "source": [
        "index, mag = find_peaks(pow0, height = 0.30, distance = 1000)\n",
        "period = np.diff(freq0[index]).mean()\n",
        "new0 = freq0 / period\n",
        "\n",
        "index, mag = find_peaks(pow1, height = 0.50, distance = 1000)\n",
        "period = np.diff(freq1[index]).mean()\n",
        "new1 = freq1 / period"
      ],
      "execution_count": 0,
      "outputs": []
    },
    {
      "cell_type": "code",
      "metadata": {
        "id": "MVFSAyyJFPdV",
        "colab_type": "code",
        "colab": {
          "base_uri": "https://localhost:8080/",
          "height": 295
        },
        "outputId": "40538a62-bd33-431b-c05f-a6540e7af93b"
      },
      "source": [
        "plt.plot(new0, pow0)\n",
        "plt.title('011400909')\n",
        "plt.xlabel('date')\n",
        "plt.ylabel('mag');"
      ],
      "execution_count": 27,
      "outputs": [
        {
          "output_type": "display_data",
          "data": {
            "image/png": "[encoded data removed]",
            "text/plain": [
              "<Figure size 432x288 with 1 Axes>"
            ]
          },
          "metadata": {
            "tags": []
          }
        }
      ]
    },
    {
      "cell_type": "code",
      "metadata": {
        "id": "fHmI0fK8FPZ0",
        "colab_type": "code",
        "colab": {
          "base_uri": "https://localhost:8080/",
          "height": 295
        },
        "outputId": "a1dd719a-9d77-4373-d958-b6407994b1cc"
      },
      "source": [
        "plt.plot(new1, pow1)\n",
        "plt.title('146879345')\n",
        "plt.xlabel('date')\n",
        "plt.ylabel('mag');"
      ],
      "execution_count": 28,
      "outputs": [
        {
          "output_type": "display_data",
          "data": {
            "image/png": "[encoded data removed]",
            "text/plain": [
              "<Figure size 432x288 with 1 Axes>"
            ]
          },
          "metadata": {
            "tags": []
          }
        }
      ]
    },
    {
      "cell_type": "markdown",
      "metadata": {
        "id": "-GxNivHsI2uK",
        "colab_type": "text"
      },
      "source": [
        "# **Binning**\n",
        "\n",
        "Finally, you will bin the data so that the phased light curve(s) contains 20 bins (from 0 to 1). To do so, you can use the df.resample() method (or any other method you wish), averaging all the points within each bin. Overplot the binned light curve(s) over the original data using a larger symbol size (and perhaps a different color), and connect the binned points with a line. Are 20 bins appropriate? If not, add more bins and explain why."
      ]
    },
    {
      "cell_type": "code",
      "metadata": {
        "id": "Kto8VoZaJSN6",
        "colab_type": "code",
        "colab": {}
      },
      "source": [
        "..."
      ],
      "execution_count": 0,
      "outputs": []
    },
    {
      "cell_type": "markdown",
      "metadata": {
        "id": "ggEuStXqJS2y",
        "colab_type": "text"
      },
      "source": [
        "This concludes the homework assignment!"
      ]
    },
    {
      "cell_type": "markdown",
      "metadata": {
        "id": "1xdy0cQCKFTt",
        "colab_type": "text"
      },
      "source": [
        "**Bonus question**: The resulting phase-folded light curve(s) might not be perfectly overlapping, with certain artefacts. Adding a text cell below, comment on what method could help address that issue, and summarily describe how you would go about applying it."
      ]
    }
  ]
}