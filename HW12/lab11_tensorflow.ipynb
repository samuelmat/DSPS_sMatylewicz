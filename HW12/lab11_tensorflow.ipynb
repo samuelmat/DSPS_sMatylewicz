{
  "nbformat": 4,
  "nbformat_minor": 0,
  "metadata": {
    "colab": {
      "name": "lab11_tensorflow.ipynb",
      "provenance": [],
      "collapsed_sections": [],
      "include_colab_link": true
    },
    "kernelspec": {
      "name": "python3",
      "display_name": "Python 3"
    }
  },
  "cells": [
    {
      "cell_type": "markdown",
      "metadata": {
        "id": "view-in-github",
        "colab_type": "text"
      },
      "source": [
        "<a href=\"https://colab.research.google.com/github/samuelmat/DSPS_sMatylewicz/blob/master/HW12/lab11_tensorflow.ipynb\" target=\"_parent\"><img src=\"https://colab.research.google.com/assets/colab-badge.svg\" alt=\"Open In Colab\"/></a>"
      ]
    },
    {
      "cell_type": "code",
      "metadata": {
        "id": "h4wdLvffnWBg",
        "colab_type": "code",
        "colab": {
          "base_uri": "https://localhost:8080/",
          "height": 65
        },
        "outputId": "d0eb8da5-8be9-46fa-c3a2-192f611ddbdc"
      },
      "source": [
        "import tensorflow as tf"
      ],
      "execution_count": 1,
      "outputs": [
        {
          "output_type": "display_data",
          "data": {
            "text/html": [
              "<p style=\"color: red;\">\n",
              "The default version of TensorFlow in Colab will soon switch to TensorFlow 2.x.<br>\n",
              "We recommend you <a href=\"https://www.tensorflow.org/guide/migrate\" target=\"_blank\">upgrade</a> now \n",
              "or ensure your notebook will continue to use TensorFlow 1.x via the <code>%tensorflow_version 1.x</code> magic:\n",
              "<a href=\"https://colab.research.google.com/notebooks/tensorflow_version.ipynb\" target=\"_blank\">more info</a>.</p>\n"
            ],
            "text/plain": [
              "<IPython.core.display.HTML object>"
            ]
          },
          "metadata": {
            "tags": []
          }
        }
      ]
    },
    {
      "cell_type": "code",
      "metadata": {
        "id": "wIhsN_yinZdv",
        "colab_type": "code",
        "colab": {}
      },
      "source": [
        "from tensorflow import keras\n",
        "import pylab as pl\n",
        "import numpy as np\n",
        "np.random.seed(123)"
      ],
      "execution_count": 0,
      "outputs": []
    },
    {
      "cell_type": "markdown",
      "metadata": {
        "id": "2JOcJIRf9t-s",
        "colab_type": "text"
      },
      "source": [
        "# 1 Getting the data: standard handwritten digit recognition task"
      ]
    },
    {
      "cell_type": "code",
      "metadata": {
        "id": "lN5a2wjjnb0q",
        "colab_type": "code",
        "outputId": "de39bf77-ff6f-44b5-a054-ca7111b54bdf",
        "colab": {
          "base_uri": "https://localhost:8080/",
          "height": 54
        }
      },
      "source": [
        "(train_input, train_labels), (test_input, test_labels) = keras.datasets.mnist.load_data()"
      ],
      "execution_count": 3,
      "outputs": [
        {
          "output_type": "stream",
          "text": [
            "Downloading data from https://storage.googleapis.com/tensorflow/tf-keras-datasets/mnist.npz\n",
            "11493376/11490434 [==============================] - 0s 0us/step\n"
          ],
          "name": "stdout"
        }
      ]
    },
    {
      "cell_type": "markdown",
      "metadata": {
        "id": "z3S03Rda91vM",
        "colab_type": "text"
      },
      "source": [
        "# 2 understand the input data\n",
        "\n",
        "# task 1: print the shape of the train input and train labels\n",
        "\n",
        "# task 2: print the label of the 10th observation\n",
        "\n",
        "# task 3: what is the shape of train_input 1?\n",
        "\n",
        "# task 4: plot train_inpu 1\n"
      ]
    },
    {
      "cell_type": "code",
      "metadata": {
        "id": "Xrp019uNdiYJ",
        "colab_type": "code",
        "colab": {
          "base_uri": "https://localhost:8080/",
          "height": 36
        },
        "outputId": "57f562ea-44e8-4126-d7ca-ca4acf0ccc5e"
      },
      "source": [
        "train_input.shape"
      ],
      "execution_count": 7,
      "outputs": [
        {
          "output_type": "execute_result",
          "data": {
            "text/plain": [
              "(60000, 28, 28)"
            ]
          },
          "metadata": {
            "tags": []
          },
          "execution_count": 7
        }
      ]
    },
    {
      "cell_type": "code",
      "metadata": {
        "id": "XB0sEKfbdigt",
        "colab_type": "code",
        "colab": {
          "base_uri": "https://localhost:8080/",
          "height": 36
        },
        "outputId": "def94934-e5d4-4d35-8f5d-8a9f2ceff232"
      },
      "source": [
        "train_labels.shape"
      ],
      "execution_count": 8,
      "outputs": [
        {
          "output_type": "execute_result",
          "data": {
            "text/plain": [
              "(60000,)"
            ]
          },
          "metadata": {
            "tags": []
          },
          "execution_count": 8
        }
      ]
    },
    {
      "cell_type": "code",
      "metadata": {
        "id": "OW8C9qlmdiev",
        "colab_type": "code",
        "colab": {
          "base_uri": "https://localhost:8080/",
          "height": 36
        },
        "outputId": "20576a1e-7c7c-45e8-c6b3-db8a8b5ca739"
      },
      "source": [
        "train_labels[10]"
      ],
      "execution_count": 11,
      "outputs": [
        {
          "output_type": "execute_result",
          "data": {
            "text/plain": [
              "3"
            ]
          },
          "metadata": {
            "tags": []
          },
          "execution_count": 11
        }
      ]
    },
    {
      "cell_type": "code",
      "metadata": {
        "id": "GJSUkIxodib3",
        "colab_type": "code",
        "colab": {
          "base_uri": "https://localhost:8080/",
          "height": 36
        },
        "outputId": "91567915-5610-4bc7-a281-3c48f9d58903"
      },
      "source": [
        "train_input[1].shape"
      ],
      "execution_count": 12,
      "outputs": [
        {
          "output_type": "execute_result",
          "data": {
            "text/plain": [
              "(28, 28)"
            ]
          },
          "metadata": {
            "tags": []
          },
          "execution_count": 12
        }
      ]
    },
    {
      "cell_type": "code",
      "metadata": {
        "id": "eGvGQECnekIz",
        "colab_type": "code",
        "colab": {
          "base_uri": "https://localhost:8080/",
          "height": 284
        },
        "outputId": "9eabb34a-f3e5-4517-9599-83b72fc9e92b"
      },
      "source": [
        "pl.imshow(train_input[0])"
      ],
      "execution_count": 16,
      "outputs": [
        {
          "output_type": "execute_result",
          "data": {
            "text/plain": [
              "<matplotlib.image.AxesImage at 0x7fc474e65e10>"
            ]
          },
          "metadata": {
            "tags": []
          },
          "execution_count": 16
        },
        {
          "output_type": "display_data",
          "data": {
            "image/png": "[encoded data removed]",
            "text/plain": [
              "<Figure size 432x288 with 1 Axes>"
            ]
          },
          "metadata": {
            "tags": []
          }
        }
      ]
    },
    {
      "cell_type": "markdown",
      "metadata": {
        "id": "lUKQ0gxv-RyV",
        "colab_type": "text"
      },
      "source": [
        "# 3 Create the model\n",
        "\n",
        "# task 5: create a model with 3 layers: input layer and 2 fully connected layers with 128 and 10 neurons respectively"
      ]
    },
    {
      "cell_type": "code",
      "metadata": {
        "id": "sRvt_FxxJzsS",
        "colab_type": "code",
        "colab": {
          "base_uri": "https://localhost:8080/",
          "height": 93
        },
        "outputId": "62f05dd9-20a9-428a-96ab-fe8103244cbb"
      },
      "source": [
        "\n",
        "model = keras.Sequential([keras.layers.Flatten(input_shape=(28,28)),\n",
        "                         keras.layers.Dense(128, activation=tf.nn.sigmoid), \n",
        "                          keras.layers.Dense(256,activation=tf.nn.softmax) ])"
      ],
      "execution_count": 19,
      "outputs": [
        {
          "output_type": "stream",
          "text": [
            "WARNING:tensorflow:From /usr/local/lib/python3.6/dist-packages/tensorflow_core/python/ops/resource_variable_ops.py:1630: calling BaseResourceVariable.__init__ (from tensorflow.python.ops.resource_variable_ops) with constraint is deprecated and will be removed in a future version.\n",
            "Instructions for updating:\n",
            "If using Keras pass *_constraint arguments to layers.\n"
          ],
          "name": "stdout"
        }
      ]
    },
    {
      "cell_type": "markdown",
      "metadata": {
        "id": "kqhAMKMpohZy",
        "colab_type": "text"
      },
      "source": [
        "# 4 set the hyperparameters\n",
        "# task 6: set a learning rate of 0.01, a loss function \"sparse_categorical_crossentropy\" and set the metric to \"accuracy\n",
        "                                              "
      ]
    },
    {
      "cell_type": "code",
      "metadata": {
        "id": "zPhqtfuyneAl",
        "colab_type": "code",
        "colab": {}
      },
      "source": [
        "model.compile(optimizer=tf.train.GradientDescentOptimizer(learning_rate=0.01),loss='sparse_categorical_crossentropy',metrics=['accuracy'])"
      ],
      "execution_count": 0,
      "outputs": []
    },
    {
      "cell_type": "code",
      "metadata": {
        "id": "DgQYW5bap06u",
        "colab_type": "code",
        "outputId": "6cc595e7-9d13-4a7e-b244-f7e1f4e55063",
        "colab": {
          "base_uri": "https://localhost:8080/",
          "height": 241
        }
      },
      "source": [
        "model.fit(train_input, train_labels, epochs=5)"
      ],
      "execution_count": 23,
      "outputs": [
        {
          "output_type": "stream",
          "text": [
            "Train on 60000 samples\n",
            "Epoch 1/5\n",
            "60000/60000 [==============================] - 4s 72us/sample - loss: 0.8634 - acc: 0.8114\n",
            "Epoch 2/5\n",
            "60000/60000 [==============================] - 4s 65us/sample - loss: 0.3847 - acc: 0.8978\n",
            "Epoch 3/5\n",
            "60000/60000 [==============================] - 4s 65us/sample - loss: 0.3251 - acc: 0.9100\n",
            "Epoch 4/5\n",
            "60000/60000 [==============================] - 4s 65us/sample - loss: 0.3001 - acc: 0.9165\n",
            "Epoch 5/5\n",
            "60000/60000 [==============================] - 4s 66us/sample - loss: 0.2798 - acc: 0.9218\n"
          ],
          "name": "stdout"
        },
        {
          "output_type": "execute_result",
          "data": {
            "text/plain": [
              "<tensorflow.python.keras.callbacks.History at 0x7fc473c8eeb8>"
            ]
          },
          "metadata": {
            "tags": []
          },
          "execution_count": 23
        }
      ]
    },
    {
      "cell_type": "markdown",
      "metadata": {
        "id": "cm-dUAzQ_Lq3",
        "colab_type": "text"
      },
      "source": [
        "# Task 7: test the model"
      ]
    },
    {
      "cell_type": "code",
      "metadata": {
        "id": "zxecyD5oqGTj",
        "colab_type": "code",
        "outputId": "6438f8b1-7b94-4d0b-e146-82e1381a7fe0",
        "colab": {
          "base_uri": "https://localhost:8080/",
          "height": 40
        }
      },
      "source": [
        "test_loss, test_acc = model.evaluate(...)"
      ],
      "execution_count": 0,
      "outputs": [
        {
          "output_type": "stream",
          "text": [
            "10000/10000 [==============================] - 0s 35us/sample - loss: 0.2557 - acc: 0.9308\n"
          ],
          "name": "stdout"
        }
      ]
    },
    {
      "cell_type": "markdown",
      "metadata": {
        "id": "vACTcept_Xx8",
        "colab_type": "text"
      },
      "source": [
        "# task 8 plot the 10'th test observation and its label and prediction"
      ]
    },
    {
      "cell_type": "code",
      "metadata": {
        "id": "R8gUnQaGARqW",
        "colab_type": "code",
        "colab": {}
      },
      "source": [
        "pred = model.predict(...)"
      ],
      "execution_count": 0,
      "outputs": []
    },
    {
      "cell_type": "markdown",
      "metadata": {
        "id": "2mzWVo9yJhY9",
        "colab_type": "text"
      },
      "source": [
        "# task 9: find the first wrong prediction in the test set"
      ]
    },
    {
      "cell_type": "code",
      "metadata": {
        "id": "cruV1n7CJaBI",
        "colab_type": "code",
        "colab": {}
      },
      "source": [
        "..."
      ],
      "execution_count": 0,
      "outputs": []
    }
  ]
}